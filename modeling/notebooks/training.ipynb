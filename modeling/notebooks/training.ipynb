{
 "cells": [
  {
   "cell_type": "markdown",
   "metadata": {},
   "source": [
    "# Model Training\n",
    "For reference see [Finetuning Torchvision Models](https://pytorch.org/tutorials/beginner/finetuning_torchvision_models_tutorial.html)  "
   ]
  },
  {
   "cell_type": "raw",
   "metadata": {},
   "source": [
    "import sys\n",
    "get_ipython().system('{sys.executable} -m pip install --upgrade pip');\n",
    "get_ipython().system('{sys.executable} -m pip install -r ../requirements.txt');"
   ]
  },
  {
   "cell_type": "markdown",
   "metadata": {},
   "source": [
    "***\n",
    "# Setup"
   ]
  },
  {
   "cell_type": "code",
   "execution_count": 1,
   "metadata": {},
   "outputs": [],
   "source": [
    "%load_ext autoreload\n",
    "%autoreload 2\n",
    "import sys, os\n",
    "sys.path.append(os.path.expanduser('~/mount_sinai_health_hackathon_ekg_img/'))\n",
    "from common_code import *\n",
    "%matplotlib inline\n",
    "\n",
    "from sklearn.metrics import confusion_matrix\n",
    "\n",
    "import torchvision.models as models\n",
    "from torchvision import datasets, transforms\n",
    "# from sklearn.metrics import confusion_matrix"
   ]
  },
  {
   "cell_type": "code",
   "execution_count": 2,
   "metadata": {},
   "outputs": [],
   "source": [
    "Dx_classes = {\n",
    "'Normal': 'Normal sinus rhythm',\n",
    "'AF': 'Atrial fibrillation',\n",
    "'I-AVB': 'Airst-degree atrioventricular block',\n",
    "'LBBB': 'Left bundle branch block',\n",
    "'PAC': 'Premature atrial complex',\n",
    "'PVC': 'Premature ventricular complex',\n",
    "'RBBB': 'Right bundle branch block',\n",
    "'STD': 'ST-segment depression',\n",
    "'STE': 'ST-segment elevation',\n",
    "}"
   ]
  },
  {
   "cell_type": "code",
   "execution_count": 3,
   "metadata": {},
   "outputs": [
    {
     "name": "stdout",
     "output_type": "stream",
     "text": [
      "device = cuda\n"
     ]
    }
   ],
   "source": [
    "# Check if gpu support is available\n",
    "device = torch.device('cuda' if torch.cuda.is_available() else 'cpu')\n",
    "print(f'device = {device}')"
   ]
  },
  {
   "cell_type": "code",
   "execution_count": 4,
   "metadata": {},
   "outputs": [],
   "source": [
    "# Models to choose from [resnet, alexnet, vgg, squeezenet, densenet, inception]\n",
    "model_name = 'resnet'\n",
    "\n",
    "# Number of classes in the dataset\n",
    "n_classes = len(Dx_classes.keys())\n",
    "\n",
    "# Batch size for training (change depending on how much memory you have)\n",
    "batch_size = 256\n",
    "\n",
    "# Flag for feature extraction. When True only update the reshaped layer params, when False train the whole model from scratch.\n",
    "# Should probably remain True.\n",
    "feature_extract = True\n",
    "\n",
    "# use pretrained model, should probably remain True.\n",
    "use_pretrained=True\n",
    "\n",
    "# path to data dir\n",
    "data_path = os.path.expanduser('~/mount_sinai_health_hackathon_ekg_img/data')\n",
    "\n",
    "# resolution of preprocessed images\n",
    "im_res = 800"
   ]
  },
  {
   "cell_type": "code",
   "execution_count": 5,
   "metadata": {},
   "outputs": [],
   "source": [
    "output_path = f'../output/{model_name}'\n",
    "models_path = f'../models/{model_name}'"
   ]
  },
  {
   "cell_type": "code",
   "execution_count": 6,
   "metadata": {},
   "outputs": [],
   "source": [
    "# test_mem()"
   ]
  },
  {
   "cell_type": "markdown",
   "metadata": {},
   "source": [
    "***\n",
    "### Helper Functions"
   ]
  },
  {
   "cell_type": "code",
   "execution_count": 7,
   "metadata": {},
   "outputs": [],
   "source": [
    "def set_parameter_requires_grad(model, feature_extracting):\n",
    "    if feature_extracting:\n",
    "        for param in model.parameters():\n",
    "            param.requires_grad = False"
   ]
  },
  {
   "cell_type": "markdown",
   "metadata": {},
   "source": [
    "***\n",
    "# Create the Model"
   ]
  },
  {
   "cell_type": "code",
   "execution_count": 8,
   "metadata": {},
   "outputs": [],
   "source": [
    "def initialize_model(model_name, n_classes, feature_extract, use_pretrained=True):\n",
    "    model_ft = None\n",
    "    input_size = 0\n",
    "\n",
    "    if model_name == 'resnet':\n",
    "        ''' Resnet101\n",
    "        '''\n",
    "        model_ft = models.resnet101(pretrained=use_pretrained)\n",
    "        set_parameter_requires_grad(model_ft, feature_extract)\n",
    "        num_ftrs = model_ft.fc.in_features\n",
    "        model_ft.fc = nn.Linear(num_ftrs, n_classes)\n",
    "        input_size = 224\n",
    "\n",
    "    elif model_name == 'alexnet':\n",
    "        ''' Alexnet\n",
    "        '''\n",
    "        model_ft = models.alexnet(pretrained=use_pretrained)\n",
    "        set_parameter_requires_grad(model_ft, feature_extract)\n",
    "        num_ftrs = model_ft.classifier[6].in_features\n",
    "        model_ft.classifier[6] = nn.Linear(num_ftrs,n_classes)\n",
    "        input_size = 224\n",
    "\n",
    "    elif model_name == 'vgg':\n",
    "        ''' VGG11_bn\n",
    "        '''\n",
    "        model_ft = models.vgg11_bn(pretrained=use_pretrained)\n",
    "        set_parameter_requires_grad(model_ft, feature_extract)\n",
    "        num_ftrs = model_ft.classifier[6].in_features\n",
    "        model_ft.classifier[6] = nn.Linear(num_ftrs,n_classes)\n",
    "        input_size = 224\n",
    "\n",
    "    elif model_name == 'squeezenet':\n",
    "        ''' Squeezenet\n",
    "        '''\n",
    "        model_ft = models.squeezenet1_0(pretrained=use_pretrained)\n",
    "        set_parameter_requires_grad(model_ft, feature_extract)\n",
    "        model_ft.classifier[1] = nn.Conv2d(512, n_classes, kernel_size=(1,1), stride=(1,1))\n",
    "        model_ft.n_classes = n_classes\n",
    "        input_size = 224\n",
    "\n",
    "    elif model_name == 'densenet':\n",
    "        ''' Densenet\n",
    "        '''\n",
    "        model_ft = models.densenet121(pretrained=use_pretrained)\n",
    "        set_parameter_requires_grad(model_ft, feature_extract)\n",
    "        num_ftrs = model_ft.classifier.in_features\n",
    "        model_ft.classifier = nn.Linear(num_ftrs, n_classes)\n",
    "        input_size = 224\n",
    "\n",
    "#    elif model_name == 'inception':\n",
    "#        ''' Inception v3\n",
    "#        Be careful, expects (299,299) sized images and has auxiliary output\n",
    "#        '''\n",
    "#        model_ft = models.inception_v3(pretrained=use_pretrained)\n",
    "#        set_parameter_requires_grad(model_ft, feature_extract)\n",
    "#        # Handle the auxilary net\n",
    "#        num_ftrs = model_ft.AuxLogits.fc.in_features\n",
    "#        model_ft.AuxLogits.fc = nn.Linear(num_ftrs, n_classes)\n",
    "#        # Handle the primary net\n",
    "#        num_ftrs = model_ft.fc.in_features\n",
    "#        model_ft.fc = nn.Linear(num_ftrs,n_classes)\n",
    "#        input_size = 299\n",
    "\n",
    "    else:\n",
    "        raise ValueError(f'Invalid model_name = {model_name}')\n",
    "        exit()\n",
    "\n",
    "    return model_ft, input_size"
   ]
  },
  {
   "cell_type": "code",
   "execution_count": 9,
   "metadata": {},
   "outputs": [],
   "source": [
    "model, input_size = initialize_model(model_name, n_classes, feature_extract, use_pretrained)"
   ]
  },
  {
   "cell_type": "code",
   "execution_count": 10,
   "metadata": {},
   "outputs": [
    {
     "name": "stdout",
     "output_type": "stream",
     "text": [
      "input_size = 224\n"
     ]
    }
   ],
   "source": [
    "print(f'input_size = {input_size}')"
   ]
  },
  {
   "cell_type": "code",
   "execution_count": 11,
   "metadata": {},
   "outputs": [],
   "source": [
    "loss_fn = nn.CrossEntropyLoss()\n",
    "\n",
    "model.to(device);"
   ]
  },
  {
   "cell_type": "code",
   "execution_count": 12,
   "metadata": {},
   "outputs": [
    {
     "name": "stdout",
     "output_type": "stream",
     "text": [
      "Params to learn:\n",
      "fc.weight\n",
      "fc.bias\n"
     ]
    }
   ],
   "source": [
    "# TODO is all of this needed?\n",
    "\n",
    "# Gather the parameters to be optimized/updated in this run.\n",
    "# If we are finetuning we will be updating all parameters\n",
    "# However, if we are usingthe  feature extract method, we will only update the parameters that we have just initialized,\n",
    "# i.e. the parameters with requires_grad is True.\n",
    "\n",
    "params_to_update = model.parameters()\n",
    "print('Params to learn:')\n",
    "if feature_extract:\n",
    "    params_to_update = []\n",
    "    for name,param in model.named_parameters():\n",
    "        if param.requires_grad == True:\n",
    "            params_to_update.append(param)\n",
    "            print(name)\n",
    "else:\n",
    "    for name,param in model.named_parameters():\n",
    "        if param.requires_grad == True:\n",
    "            print(name)"
   ]
  },
  {
   "cell_type": "code",
   "execution_count": 13,
   "metadata": {},
   "outputs": [],
   "source": [
    "optimizer = torch.optim.SGD(params_to_update, lr=0.001, momentum=0.9)\n",
    "# optimizer = torch.optim.Adam(params_to_update, weight_decay=1e-5)"
   ]
  },
  {
   "cell_type": "markdown",
   "metadata": {},
   "source": [
    "***\n",
    "# Load Data"
   ]
  },
  {
   "cell_type": "markdown",
   "metadata": {},
   "source": [
    "### Compute Normalization Factors"
   ]
  },
  {
   "cell_type": "raw",
   "metadata": {},
   "source": [
    "dl_unnormalized = torch.utils.data.DataLoader(\n",
    "    tv.datasets.ImageFolder(root=f'{data_path}/preprocessed/im_res_{im_res}/all',\n",
    "                            transform=transforms.Compose([transforms.Resize(input_size), transforms.ToTensor()])),\n",
    "    batch_size=batch_size, shuffle=False, num_workers=8\n",
    ")\n",
    "\n",
    "pop_mean, pop_std0 = compute_channel_norms(dl_unnormalized)\n",
    "\n",
    "print(f'pop_mean = {pop_mean}')\n",
    "print(f'pop_std0 = {pop_std0}')"
   ]
  },
  {
   "cell_type": "code",
   "execution_count": 14,
   "metadata": {},
   "outputs": [],
   "source": [
    "# use normalization results computed earlier\n",
    "if input_size == 224:\n",
    "    pop_mean = np.array([0.94411284, 0.94346404, 0.94239646])\n",
    "    pop_std0 = np.array([0.04548508, 0.04374889, 0.04681061])\n",
    "else:\n",
    "    raise ValueError(f'No precomputed mean, std avalaible for input_size = {input_size}')"
   ]
  },
  {
   "cell_type": "markdown",
   "metadata": {},
   "source": [
    "### Actually Load Data"
   ]
  },
  {
   "cell_type": "code",
   "execution_count": 15,
   "metadata": {},
   "outputs": [],
   "source": [
    "transform = transforms.Compose([transforms.Resize(input_size), transforms.ToTensor(), transforms.Normalize(pop_mean, pop_std0)])\n",
    "\n",
    "ds_train = tv.datasets.ImageFolder(root=f'{data_path}/preprocessed/im_res_{im_res}/train', transform=transform)\n",
    "ds_val = tv.datasets.ImageFolder(root=f'{data_path}/preprocessed/im_res_{im_res}/val', transform=transform)\n",
    "ds_test = tv.datasets.ImageFolder(root=f'{data_path}/preprocessed/im_res_{im_res}/test', transform=transform)"
   ]
  },
  {
   "cell_type": "code",
   "execution_count": 16,
   "metadata": {},
   "outputs": [],
   "source": [
    "class_to_idx = {}\n",
    "for k,v in ds_train.class_to_idx.items():\n",
    "    class_to_idx[k] = v\n",
    "class_to_idx = OrderedDict(sorted(class_to_idx.items(), key=lambda x: x))\n",
    "idx_to_class = OrderedDict([[v,k] for k,v in class_to_idx.items()])"
   ]
  },
  {
   "cell_type": "code",
   "execution_count": 17,
   "metadata": {},
   "outputs": [],
   "source": [
    "dl_train = torch.utils.data.DataLoader(ds_train, batch_size=batch_size, shuffle=False, num_workers=8)\n",
    "dl_val = torch.utils.data.DataLoader(ds_val, batch_size=batch_size, shuffle=False, num_workers=8)\n",
    "dl_test = torch.utils.data.DataLoader(ds_test, batch_size=batch_size, shuffle=False, num_workers=8)"
   ]
  },
  {
   "cell_type": "code",
   "execution_count": 18,
   "metadata": {},
   "outputs": [],
   "source": [
    "# test_mem()"
   ]
  },
  {
   "cell_type": "markdown",
   "metadata": {},
   "source": [
    "***\n",
    "# Train"
   ]
  },
  {
   "cell_type": "code",
   "execution_count": 19,
   "metadata": {},
   "outputs": [],
   "source": [
    "# test_mem()"
   ]
  },
  {
   "cell_type": "code",
   "execution_count": 20,
   "metadata": {},
   "outputs": [
    {
     "data": {
      "application/vnd.jupyter.widget-view+json": {
       "model_id": "44fa1abfb52b4ebe8397d0bde90911d6",
       "version_major": 2,
       "version_minor": 0
      },
      "text/plain": [
       "HBox(children=(FloatProgress(value=0.0, description='Epoch', max=200.0, style=ProgressStyle(description_width=…"
      ]
     },
     "metadata": {},
     "output_type": "display_data"
    },
    {
     "name": "stdout",
     "output_type": "stream",
     "text": [
      "Epoch:    0, Train Loss: 2.260826720, Val Loss: 2.261051516, Delta Best:   0.000%, Model Saved!\n",
      "Epoch:    1, Train Loss: 2.252368720, Val Loss: 2.255964159, Delta Best:  -0.225%, Model Saved!\n",
      "Epoch:    2, Train Loss: 2.187448057, Val Loss: 2.188921877, Delta Best:  -2.972%, Model Saved!\n",
      "Epoch:    3, Train Loss: 2.191792783, Val Loss: 2.193169613, Delta Best:   0.194%\n",
      "Epoch:    4, Train Loss: 2.148669826, Val Loss: 2.148366098, Delta Best:  -1.853%, Model Saved!\n",
      "Epoch:    5, Train Loss: 2.138770546, Val Loss: 2.137517906, Delta Best:  -0.505%, Model Saved!\n",
      "Epoch:    6, Train Loss: 2.114937059, Val Loss: 2.113431463, Delta Best:  -1.127%, Model Saved!\n",
      "Epoch:    7, Train Loss: 2.100026259, Val Loss: 2.098203081, Delta Best:  -0.721%, Model Saved!\n",
      "Epoch:    8, Train Loss: 2.083544818, Val Loss: 2.081705916, Delta Best:  -0.786%, Model Saved!\n",
      "Epoch:    9, Train Loss: 2.070035714, Val Loss: 2.068096647, Delta Best:  -0.654%, Model Saved!\n",
      "Epoch:   10, Train Loss: 2.056385791, Val Loss: 2.054583916, Delta Best:  -0.653%, Model Saved!\n",
      "Epoch:   11, Train Loss: 2.045029463, Val Loss: 2.043281628, Delta Best:  -0.550%, Model Saved!\n",
      "Epoch:   12, Train Loss: 2.033318863, Val Loss: 2.031807317, Delta Best:  -0.562%, Model Saved!\n",
      "Epoch:   13, Train Loss: 2.023583196, Val Loss: 2.022249717, Delta Best:  -0.470%, Model Saved!\n",
      "Epoch:   14, Train Loss: 2.013525042, Val Loss: 2.012499281, Delta Best:  -0.482%, Model Saved!\n",
      "Epoch:   15, Train Loss: 2.004991787, Val Loss: 2.004239632, Delta Best:  -0.410%, Model Saved!\n",
      "Epoch:   16, Train Loss: 1.996295746, Val Loss: 1.995907611, Delta Best:  -0.416%, Model Saved!\n",
      "Epoch:   17, Train Loss: 1.988726216, Val Loss: 1.988683955, Delta Best:  -0.362%, Model Saved!\n",
      "Epoch:   18, Train Loss: 1.981123747, Val Loss: 1.981491192, Delta Best:  -0.362%, Model Saved!\n",
      "Epoch:   19, Train Loss: 1.974357312, Val Loss: 1.975125850, Delta Best:  -0.321%, Model Saved!\n",
      "Epoch:   20, Train Loss: 1.967637021, Val Loss: 1.968851914, Delta Best:  -0.318%, Model Saved!\n",
      "Epoch:   21, Train Loss: 1.961548632, Val Loss: 1.963207145, Delta Best:  -0.287%, Model Saved!\n",
      "Epoch:   22, Train Loss: 1.955550208, Val Loss: 1.957684640, Delta Best:  -0.281%, Model Saved!\n",
      "Epoch:   23, Train Loss: 1.950037949, Val Loss: 1.952648668, Delta Best:  -0.257%, Model Saved!\n",
      "Epoch:   24, Train Loss: 1.944639066, Val Loss: 1.947749104, Delta Best:  -0.251%, Model Saved!\n",
      "Epoch:   25, Train Loss: 1.939620181, Val Loss: 1.943231480, Delta Best:  -0.232%, Model Saved!\n",
      "Epoch:   26, Train Loss: 1.934724786, Val Loss: 1.938854066, Delta Best:  -0.225%, Model Saved!\n",
      "Epoch:   27, Train Loss: 1.930131604, Val Loss: 1.934781323, Delta Best:  -0.210%, Model Saved!\n",
      "Epoch:   28, Train Loss: 1.925664060, Val Loss: 1.930845817, Delta Best:  -0.203%, Model Saved!\n",
      "Epoch:   29, Train Loss: 1.921440682, Val Loss: 1.927157527, Delta Best:  -0.191%, Model Saved!\n",
      "Epoch:   30, Train Loss: 1.917340180, Val Loss: 1.923599534, Delta Best:  -0.185%, Model Saved!\n",
      "Epoch:   31, Train Loss: 1.913440430, Val Loss: 1.920244872, Delta Best:  -0.174%, Model Saved!\n",
      "Epoch:   32, Train Loss: 1.909657483, Val Loss: 1.917012765, Delta Best:  -0.168%, Model Saved!\n",
      "Epoch:   33, Train Loss: 1.906042252, Val Loss: 1.913950262, Delta Best:  -0.160%, Model Saved!\n",
      "Epoch:   34, Train Loss: 1.902536806, Val Loss: 1.911000840, Delta Best:  -0.154%, Model Saved!\n",
      "Epoch:   35, Train Loss: 1.899173308, Val Loss: 1.908194702, Delta Best:  -0.147%, Model Saved!\n",
      "Epoch:   36, Train Loss: 1.895911507, Val Loss: 1.905492748, Delta Best:  -0.142%, Model Saved!\n",
      "Epoch:   37, Train Loss: 1.892771849, Val Loss: 1.902913739, Delta Best:  -0.135%, Model Saved!\n",
      "Epoch:   38, Train Loss: 1.889726111, Val Loss: 1.900429268, Delta Best:  -0.131%, Model Saved!\n",
      "Epoch:   39, Train Loss: 1.886786359, Val Loss: 1.898051337, Delta Best:  -0.125%, Model Saved!\n",
      "Epoch:   40, Train Loss: 1.883932885, Val Loss: 1.895759651, Delta Best:  -0.121%, Model Saved!\n",
      "Epoch:   41, Train Loss: 1.881172723, Val Loss: 1.893561116, Delta Best:  -0.116%, Model Saved!\n",
      "Epoch:   42, Train Loss: 1.878491379, Val Loss: 1.891441027, Delta Best:  -0.112%, Model Saved!\n",
      "Epoch:   43, Train Loss: 1.875892962, Val Loss: 1.889403081, Delta Best:  -0.108%, Model Saved!\n",
      "Epoch:   44, Train Loss: 1.873366927, Val Loss: 1.887436589, Delta Best:  -0.104%, Model Saved!\n",
      "Epoch:   45, Train Loss: 1.870914771, Val Loss: 1.885543043, Delta Best:  -0.100%, Model Saved!\n",
      "Epoch:   46, Train Loss: 1.868528874, Val Loss: 1.883714280, Delta Best:  -0.097%, Model Saved!\n",
      "Epoch:   47, Train Loss: 1.866209621, Val Loss: 1.881950896, Delta Best:  -0.094%, Model Saved!\n",
      "Epoch:   48, Train Loss: 1.863951300, Val Loss: 1.880246623, Delta Best:  -0.091%, Model Saved!\n",
      "Epoch:   49, Train Loss: 1.861753026, Val Loss: 1.878601179, Delta Best:  -0.088%, Model Saved!\n",
      "Epoch:   50, Train Loss: 1.859610728, Val Loss: 1.877009467, Delta Best:  -0.085%, Model Saved!\n",
      "Epoch:   51, Train Loss: 1.857523303, Val Loss: 1.875470772, Delta Best:  -0.082%, Model Saved!\n",
      "Epoch:   52, Train Loss: 1.855487206, Val Loss: 1.873981702, Delta Best:  -0.079%, Model Saved!\n",
      "Epoch:   53, Train Loss: 1.853501158, Val Loss: 1.872540315, Delta Best:  -0.077%, Model Saved!\n",
      "Epoch:   54, Train Loss: 1.851562621, Val Loss: 1.871144463, Delta Best:  -0.075%, Model Saved!\n",
      "Epoch:   55, Train Loss: 1.849670071, Val Loss: 1.869792493, Delta Best:  -0.072%, Model Saved!\n",
      "Epoch:   56, Train Loss: 1.847821126, Val Loss: 1.868481896, Delta Best:  -0.070%, Model Saved!\n",
      "Epoch:   57, Train Loss: 1.846014604, Val Loss: 1.867211453, Delta Best:  -0.068%, Model Saved!\n",
      "Epoch:   58, Train Loss: 1.844248536, Val Loss: 1.865979172, Delta Best:  -0.066%, Model Saved!\n",
      "Epoch:   59, Train Loss: 1.842521646, Val Loss: 1.864783641, Delta Best:  -0.064%, Model Saved!\n",
      "Epoch:   60, Train Loss: 1.840832276, Val Loss: 1.863623127, Delta Best:  -0.062%, Model Saved!\n",
      "Epoch:   61, Train Loss: 1.839179059, Val Loss: 1.862496572, Delta Best:  -0.060%, Model Saved!\n",
      "Epoch:   62, Train Loss: 1.837560826, Val Loss: 1.861402497, Delta Best:  -0.059%, Model Saved!\n",
      "Epoch:   63, Train Loss: 1.835976180, Val Loss: 1.860339596, Delta Best:  -0.057%, Model Saved!\n",
      "Epoch:   64, Train Loss: 1.834423827, Val Loss: 1.859306841, Delta Best:  -0.056%, Model Saved!\n",
      "Epoch:   65, Train Loss: 1.832903041, Val Loss: 1.858302911, Delta Best:  -0.054%, Model Saved!\n",
      "Epoch:   66, Train Loss: 1.831412324, Val Loss: 1.857326561, Delta Best:  -0.053%, Model Saved!\n",
      "Epoch:   67, Train Loss: 1.829950867, Val Loss: 1.856377073, Delta Best:  -0.051%, Model Saved!\n",
      "Epoch:   68, Train Loss: 1.828517760, Val Loss: 1.855453624, Delta Best:  -0.050%, Model Saved!\n",
      "Epoch:   69, Train Loss: 1.827111739, Val Loss: 1.854554751, Delta Best:  -0.048%, Model Saved!\n",
      "Epoch:   70, Train Loss: 1.825732264, Val Loss: 1.853680253, Delta Best:  -0.047%, Model Saved!\n",
      "Epoch:   71, Train Loss: 1.824378428, Val Loss: 1.852828382, Delta Best:  -0.046%, Model Saved!\n",
      "Epoch:   72, Train Loss: 1.823049243, Val Loss: 1.851999238, Delta Best:  -0.045%, Model Saved!\n",
      "Epoch:   73, Train Loss: 1.821744099, Val Loss: 1.851191486, Delta Best:  -0.044%, Model Saved!\n",
      "Epoch:   74, Train Loss: 1.820462234, Val Loss: 1.850404810, Delta Best:  -0.042%, Model Saved!\n",
      "Epoch:   75, Train Loss: 1.819202737, Val Loss: 1.849638049, Delta Best:  -0.041%, Model Saved!\n",
      "Epoch:   76, Train Loss: 1.817965211, Val Loss: 1.848890817, Delta Best:  -0.040%, Model Saved!\n",
      "Epoch:   77, Train Loss: 1.816748945, Val Loss: 1.848162538, Delta Best:  -0.039%, Model Saved!\n",
      "Epoch:   78, Train Loss: 1.815553186, Val Loss: 1.847452399, Delta Best:  -0.038%, Model Saved!\n",
      "Epoch:   79, Train Loss: 1.814377422, Val Loss: 1.846759927, Delta Best:  -0.037%, Model Saved!\n",
      "Epoch:   80, Train Loss: 1.813221030, Val Loss: 1.846084412, Delta Best:  -0.037%, Model Saved!\n",
      "Epoch:   81, Train Loss: 1.812083528, Val Loss: 1.845425781, Delta Best:  -0.036%, Model Saved!\n",
      "Epoch:   82, Train Loss: 1.810964184, Val Loss: 1.844782941, Delta Best:  -0.035%, Model Saved!\n",
      "Epoch:   83, Train Loss: 1.809862690, Val Loss: 1.844155774, Delta Best:  -0.034%, Model Saved!\n",
      "Epoch:   84, Train Loss: 1.808778648, Val Loss: 1.843543762, Delta Best:  -0.033%, Model Saved!\n",
      "Epoch:   85, Train Loss: 1.807711310, Val Loss: 1.842946179, Delta Best:  -0.032%, Model Saved!\n",
      "Epoch:   86, Train Loss: 1.806660430, Val Loss: 1.842362867, Delta Best:  -0.032%, Model Saved!\n",
      "Epoch:   87, Train Loss: 1.805625466, Val Loss: 1.841793468, Delta Best:  -0.031%, Model Saved!\n",
      "Epoch:   88, Train Loss: 1.804605938, Val Loss: 1.841237284, Delta Best:  -0.030%, Model Saved!\n",
      "Epoch:   89, Train Loss: 1.803601602, Val Loss: 1.840693910, Delta Best:  -0.030%, Model Saved!\n",
      "Epoch:   90, Train Loss: 1.802611974, Val Loss: 1.840163504, Delta Best:  -0.029%, Model Saved!\n",
      "Epoch:   91, Train Loss: 1.801636641, Val Loss: 1.839645182, Delta Best:  -0.028%, Model Saved!\n",
      "Epoch:   92, Train Loss: 1.800675310, Val Loss: 1.839138805, Delta Best:  -0.028%, Model Saved!\n",
      "Epoch:   93, Train Loss: 1.799727575, Val Loss: 1.838643866, Delta Best:  -0.027%, Model Saved!\n",
      "Epoch:   94, Train Loss: 1.798793214, Val Loss: 1.838160294, Delta Best:  -0.026%, Model Saved!\n",
      "Epoch:   95, Train Loss: 1.797871734, Val Loss: 1.837687671, Delta Best:  -0.026%, Model Saved!\n",
      "Epoch:   96, Train Loss: 1.796962897, Val Loss: 1.837225721, Delta Best:  -0.025%, Model Saved!\n",
      "Epoch:   97, Train Loss: 1.796066316, Val Loss: 1.836774066, Delta Best:  -0.025%, Model Saved!\n",
      "Epoch:   98, Train Loss: 1.795181833, Val Loss: 1.836332627, Delta Best:  -0.024%, Model Saved!\n",
      "Epoch:   99, Train Loss: 1.794309140, Val Loss: 1.835900805, Delta Best:  -0.024%, Model Saved!\n",
      "Epoch:  100, Train Loss: 1.793447917, Val Loss: 1.835478683, Delta Best:  -0.023%, Model Saved!\n",
      "Epoch:  101, Train Loss: 1.792597776, Val Loss: 1.835065670, Delta Best:  -0.023%, Model Saved!\n",
      "Epoch:  102, Train Loss: 1.791758706, Val Loss: 1.834662119, Delta Best:  -0.022%, Model Saved!\n",
      "Epoch:  103, Train Loss: 1.790930332, Val Loss: 1.834267242, Delta Best:  -0.022%, Model Saved!\n",
      "Epoch:  104, Train Loss: 1.790112265, Val Loss: 1.833880750, Delta Best:  -0.021%, Model Saved!\n",
      "Epoch:  105, Train Loss: 1.789304522, Val Loss: 1.833502933, Delta Best:  -0.021%, Model Saved!\n",
      "Epoch:  106, Train Loss: 1.788506667, Val Loss: 1.833133383, Delta Best:  -0.020%, Model Saved!\n",
      "Epoch:  107, Train Loss: 1.787718615, Val Loss: 1.832771505, Delta Best:  -0.020%, Model Saved!\n",
      "Epoch:  108, Train Loss: 1.786940108, Val Loss: 1.832417663, Delta Best:  -0.019%, Model Saved!\n",
      "Epoch:  109, Train Loss: 1.786170931, Val Loss: 1.832071315, Delta Best:  -0.019%, Model Saved!\n",
      "Epoch:  110, Train Loss: 1.785410756, Val Loss: 1.831732389, Delta Best:  -0.018%, Model Saved!\n",
      "Epoch:  111, Train Loss: 1.784659717, Val Loss: 1.831400507, Delta Best:  -0.018%, Model Saved!\n",
      "Epoch:  112, Train Loss: 1.783917411, Val Loss: 1.831075958, Delta Best:  -0.018%, Model Saved!\n",
      "Epoch:  113, Train Loss: 1.783183513, Val Loss: 1.830758245, Delta Best:  -0.017%, Model Saved!\n",
      "Epoch:  114, Train Loss: 1.782458131, Val Loss: 1.830447230, Delta Best:  -0.017%, Model Saved!\n",
      "Epoch:  115, Train Loss: 1.781740902, Val Loss: 1.830142901, Delta Best:  -0.017%, Model Saved!\n",
      "Epoch:  116, Train Loss: 1.781031769, Val Loss: 1.829844702, Delta Best:  -0.016%, Model Saved!\n",
      "Epoch:  117, Train Loss: 1.780330488, Val Loss: 1.829553150, Delta Best:  -0.016%, Model Saved!\n",
      "Epoch:  118, Train Loss: 1.779636777, Val Loss: 1.829267470, Delta Best:  -0.016%, Model Saved!\n",
      "Epoch:  119, Train Loss: 1.778950747, Val Loss: 1.828987969, Delta Best:  -0.015%, Model Saved!\n",
      "Epoch:  120, Train Loss: 1.778272137, Val Loss: 1.828714035, Delta Best:  -0.015%, Model Saved!\n",
      "Epoch:  121, Train Loss: 1.777600729, Val Loss: 1.828446130, Delta Best:  -0.015%, Model Saved!\n",
      "Epoch:  122, Train Loss: 1.776936376, Val Loss: 1.828183562, Delta Best:  -0.014%, Model Saved!\n",
      "Epoch:  123, Train Loss: 1.776279010, Val Loss: 1.827926686, Delta Best:  -0.014%, Model Saved!\n",
      "Epoch:  124, Train Loss: 1.775628634, Val Loss: 1.827675096, Delta Best:  -0.014%, Model Saved!\n",
      "Epoch:  125, Train Loss: 1.774984940, Val Loss: 1.827428753, Delta Best:  -0.013%, Model Saved!\n",
      "Epoch:  126, Train Loss: 1.774347698, Val Loss: 1.827187315, Delta Best:  -0.013%, Model Saved!\n",
      "Epoch:  127, Train Loss: 1.773716945, Val Loss: 1.826951236, Delta Best:  -0.013%, Model Saved!\n",
      "Epoch:  128, Train Loss: 1.773092557, Val Loss: 1.826719886, Delta Best:  -0.013%, Model Saved!\n",
      "Epoch:  129, Train Loss: 1.772474435, Val Loss: 1.826493362, Delta Best:  -0.012%, Model Saved!\n",
      "Epoch:  130, Train Loss: 1.771862303, Val Loss: 1.826271601, Delta Best:  -0.012%, Model Saved!\n",
      "Epoch:  131, Train Loss: 1.771256244, Val Loss: 1.826054220, Delta Best:  -0.012%, Model Saved!\n",
      "Epoch:  132, Train Loss: 1.770655948, Val Loss: 1.825841608, Delta Best:  -0.012%, Model Saved!\n",
      "Epoch:  133, Train Loss: 1.770061551, Val Loss: 1.825633148, Delta Best:  -0.011%, Model Saved!\n",
      "Epoch:  134, Train Loss: 1.769472745, Val Loss: 1.825429160, Delta Best:  -0.011%, Model Saved!\n",
      "Epoch:  135, Train Loss: 1.768889584, Val Loss: 1.825229524, Delta Best:  -0.011%, Model Saved!\n",
      "Epoch:  136, Train Loss: 1.768311753, Val Loss: 1.825033800, Delta Best:  -0.011%, Model Saved!\n",
      "Epoch:  137, Train Loss: 1.767739324, Val Loss: 1.824842323, Delta Best:  -0.010%, Model Saved!\n",
      "Epoch:  138, Train Loss: 1.767172209, Val Loss: 1.824654649, Delta Best:  -0.010%, Model Saved!\n",
      "Epoch:  139, Train Loss: 1.766610232, Val Loss: 1.824470862, Delta Best:  -0.010%, Model Saved!\n",
      "Epoch:  140, Train Loss: 1.766053346, Val Loss: 1.824291145, Delta Best:  -0.010%, Model Saved!\n",
      "Epoch:  141, Train Loss: 1.765501448, Val Loss: 1.824114846, Delta Best:  -0.010%, Model Saved!\n",
      "Epoch:  142, Train Loss: 1.764954622, Val Loss: 1.823942403, Delta Best:  -0.009%, Model Saved!\n",
      "Epoch:  143, Train Loss: 1.764412357, Val Loss: 1.823773559, Delta Best:  -0.009%, Model Saved!\n",
      "Epoch:  144, Train Loss: 1.763875061, Val Loss: 1.823608071, Delta Best:  -0.009%, Model Saved!\n",
      "Epoch:  145, Train Loss: 1.763342351, Val Loss: 1.823446210, Delta Best:  -0.009%, Model Saved!\n",
      "Epoch:  146, Train Loss: 1.762814212, Val Loss: 1.823287717, Delta Best:  -0.009%, Model Saved!\n",
      "Epoch:  147, Train Loss: 1.762290647, Val Loss: 1.823132453, Delta Best:  -0.009%, Model Saved!\n",
      "Epoch:  148, Train Loss: 1.761771543, Val Loss: 1.822980497, Delta Best:  -0.008%, Model Saved!\n",
      "Epoch:  149, Train Loss: 1.761256579, Val Loss: 1.822831892, Delta Best:  -0.008%, Model Saved!\n",
      "Epoch:  150, Train Loss: 1.760746189, Val Loss: 1.822686157, Delta Best:  -0.008%, Model Saved!\n",
      "Epoch:  151, Train Loss: 1.760239867, Val Loss: 1.822543580, Delta Best:  -0.008%, Model Saved!\n",
      "Epoch:  152, Train Loss: 1.759737771, Val Loss: 1.822404173, Delta Best:  -0.008%, Model Saved!\n",
      "Epoch:  153, Train Loss: 1.759239810, Val Loss: 1.822267639, Delta Best:  -0.007%, Model Saved!\n",
      "Epoch:  154, Train Loss: 1.758745816, Val Loss: 1.822133914, Delta Best:  -0.007%, Model Saved!\n",
      "Epoch:  155, Train Loss: 1.758255714, Val Loss: 1.822003242, Delta Best:  -0.007%, Model Saved!\n",
      "Epoch:  156, Train Loss: 1.757769684, Val Loss: 1.821875102, Delta Best:  -0.007%, Model Saved!\n",
      "Epoch:  157, Train Loss: 1.757287377, Val Loss: 1.821750023, Delta Best:  -0.007%, Model Saved!\n",
      "Epoch:  158, Train Loss: 1.756808923, Val Loss: 1.821627608, Delta Best:  -0.007%, Model Saved!\n",
      "Epoch:  159, Train Loss: 1.756334197, Val Loss: 1.821507546, Delta Best:  -0.007%, Model Saved!\n",
      "Epoch:  160, Train Loss: 1.755863074, Val Loss: 1.821390298, Delta Best:  -0.006%, Model Saved!\n",
      "Epoch:  161, Train Loss: 1.755395499, Val Loss: 1.821275551, Delta Best:  -0.006%, Model Saved!\n",
      "Epoch:  162, Train Loss: 1.754931662, Val Loss: 1.821163268, Delta Best:  -0.006%, Model Saved!\n",
      "Epoch:  163, Train Loss: 1.754471149, Val Loss: 1.821053549, Delta Best:  -0.006%, Model Saved!\n",
      "Epoch:  164, Train Loss: 1.754014052, Val Loss: 1.820946196, Delta Best:  -0.006%, Model Saved!\n",
      "Epoch:  165, Train Loss: 1.753560430, Val Loss: 1.820841376, Delta Best:  -0.006%, Model Saved!\n",
      "Epoch:  166, Train Loss: 1.753110207, Val Loss: 1.820738532, Delta Best:  -0.006%, Model Saved!\n",
      "Epoch:  167, Train Loss: 1.752663365, Val Loss: 1.820638173, Delta Best:  -0.006%, Model Saved!\n",
      "Epoch:  168, Train Loss: 1.752219638, Val Loss: 1.820540089, Delta Best:  -0.005%, Model Saved!\n",
      "Epoch:  169, Train Loss: 1.751779142, Val Loss: 1.820444162, Delta Best:  -0.005%, Model Saved!\n",
      "Epoch:  170, Train Loss: 1.751341678, Val Loss: 1.820350539, Delta Best:  -0.005%, Model Saved!\n",
      "Epoch:  171, Train Loss: 1.750907580, Val Loss: 1.820259054, Delta Best:  -0.005%, Model Saved!\n",
      "\n",
      "Over the past 10 epochs the val loss did not improve by at least 0.050000%, stopping early!\n"
     ]
    }
   ],
   "source": [
    "dfp_train_results = train_model(dl_train, dl_val,\n",
    "model, optimizer, loss_fn, device,\n",
    "model_name=model_name, models_path=models_path,\n",
    "max_epochs=200,\n",
    "do_es=True, es_min_val_per_improvement=0.0005, es_epochs=10,\n",
    "do_decay_lr=False, # initial_lr=0.001, lr_epoch_period=25, lr_n_period_cap=6,\n",
    ")"
   ]
  },
  {
   "cell_type": "code",
   "execution_count": 21,
   "metadata": {},
   "outputs": [],
   "source": [
    "write_dfp(dfp_train_results, output_path , 'train_results', tag='',\n",
    "target_fixed_cols=['epoch', 'train_loss', 'val_loss', 'best_val_loss', 'delta_per_best', 'saved_model', 'elapsed_time', 'epoch_time', 'cuda_mem_alloc'],\n",
    "sort_by=['epoch'], sort_by_ascending=True)"
   ]
  },
  {
   "cell_type": "markdown",
   "metadata": {},
   "source": [
    "***\n",
    "# Eval"
   ]
  },
  {
   "cell_type": "code",
   "execution_count": 22,
   "metadata": {},
   "outputs": [],
   "source": [
    "dfp_train_results = load_dfp(output_path, 'train_results', tag='', cols_bool=['saved_model'],\n",
    "                             cols_float=['train_loss','val_loss','best_val_loss','delta_per_best','elapsed_time','epoch_time'])"
   ]
  },
  {
   "cell_type": "code",
   "execution_count": 23,
   "metadata": {},
   "outputs": [
    {
     "data": {
      "text/html": [
       "<div>\n",
       "<style scoped>\n",
       "    .dataframe tbody tr th:only-of-type {\n",
       "        vertical-align: middle;\n",
       "    }\n",
       "\n",
       "    .dataframe tbody tr th {\n",
       "        vertical-align: top;\n",
       "    }\n",
       "\n",
       "    .dataframe thead th {\n",
       "        text-align: right;\n",
       "    }\n",
       "</style>\n",
       "<table border=\"1\" class=\"dataframe\">\n",
       "  <thead>\n",
       "    <tr style=\"text-align: right;\">\n",
       "      <th></th>\n",
       "      <th>epoch</th>\n",
       "      <th>train_loss</th>\n",
       "      <th>val_loss</th>\n",
       "      <th>best_val_loss</th>\n",
       "      <th>delta_per_best</th>\n",
       "      <th>saved_model</th>\n",
       "      <th>elapsed_time</th>\n",
       "      <th>epoch_time</th>\n",
       "      <th>cuda_mem_alloc</th>\n",
       "    </tr>\n",
       "  </thead>\n",
       "  <tbody>\n",
       "    <tr>\n",
       "      <th>0</th>\n",
       "      <td>0</td>\n",
       "      <td>2.260827</td>\n",
       "      <td>2.261052</td>\n",
       "      <td>2.261052</td>\n",
       "      <td>0.000000</td>\n",
       "      <td>True</td>\n",
       "      <td>0.566810</td>\n",
       "      <td>0.566585</td>\n",
       "      <td>193248256</td>\n",
       "    </tr>\n",
       "    <tr>\n",
       "      <th>1</th>\n",
       "      <td>1</td>\n",
       "      <td>2.252369</td>\n",
       "      <td>2.255964</td>\n",
       "      <td>2.255964</td>\n",
       "      <td>-0.002250</td>\n",
       "      <td>True</td>\n",
       "      <td>1.126056</td>\n",
       "      <td>0.556727</td>\n",
       "      <td>193248256</td>\n",
       "    </tr>\n",
       "    <tr>\n",
       "      <th>2</th>\n",
       "      <td>2</td>\n",
       "      <td>2.187448</td>\n",
       "      <td>2.188922</td>\n",
       "      <td>2.188922</td>\n",
       "      <td>-0.029718</td>\n",
       "      <td>True</td>\n",
       "      <td>1.674067</td>\n",
       "      <td>0.545534</td>\n",
       "      <td>193248256</td>\n",
       "    </tr>\n",
       "    <tr>\n",
       "      <th>3</th>\n",
       "      <td>3</td>\n",
       "      <td>2.191793</td>\n",
       "      <td>2.193170</td>\n",
       "      <td>2.188922</td>\n",
       "      <td>0.001941</td>\n",
       "      <td>False</td>\n",
       "      <td>2.230885</td>\n",
       "      <td>0.554200</td>\n",
       "      <td>193248256</td>\n",
       "    </tr>\n",
       "    <tr>\n",
       "      <th>4</th>\n",
       "      <td>4</td>\n",
       "      <td>2.148670</td>\n",
       "      <td>2.148366</td>\n",
       "      <td>2.148366</td>\n",
       "      <td>-0.018528</td>\n",
       "      <td>True</td>\n",
       "      <td>2.784918</td>\n",
       "      <td>0.554008</td>\n",
       "      <td>193248256</td>\n",
       "    </tr>\n",
       "    <tr>\n",
       "      <th>...</th>\n",
       "      <td>...</td>\n",
       "      <td>...</td>\n",
       "      <td>...</td>\n",
       "      <td>...</td>\n",
       "      <td>...</td>\n",
       "      <td>...</td>\n",
       "      <td>...</td>\n",
       "      <td>...</td>\n",
       "      <td>...</td>\n",
       "    </tr>\n",
       "    <tr>\n",
       "      <th>167</th>\n",
       "      <td>167</td>\n",
       "      <td>1.752663</td>\n",
       "      <td>1.820638</td>\n",
       "      <td>1.820638</td>\n",
       "      <td>-0.000055</td>\n",
       "      <td>True</td>\n",
       "      <td>94.136927</td>\n",
       "      <td>0.542006</td>\n",
       "      <td>193248256</td>\n",
       "    </tr>\n",
       "    <tr>\n",
       "      <th>168</th>\n",
       "      <td>168</td>\n",
       "      <td>1.752220</td>\n",
       "      <td>1.820540</td>\n",
       "      <td>1.820540</td>\n",
       "      <td>-0.000054</td>\n",
       "      <td>True</td>\n",
       "      <td>94.681994</td>\n",
       "      <td>0.542756</td>\n",
       "      <td>193248256</td>\n",
       "    </tr>\n",
       "    <tr>\n",
       "      <th>169</th>\n",
       "      <td>169</td>\n",
       "      <td>1.751779</td>\n",
       "      <td>1.820444</td>\n",
       "      <td>1.820444</td>\n",
       "      <td>-0.000053</td>\n",
       "      <td>True</td>\n",
       "      <td>95.227094</td>\n",
       "      <td>0.542798</td>\n",
       "      <td>193248256</td>\n",
       "    </tr>\n",
       "    <tr>\n",
       "      <th>170</th>\n",
       "      <td>170</td>\n",
       "      <td>1.751342</td>\n",
       "      <td>1.820351</td>\n",
       "      <td>1.820351</td>\n",
       "      <td>-0.000051</td>\n",
       "      <td>True</td>\n",
       "      <td>95.772778</td>\n",
       "      <td>0.543374</td>\n",
       "      <td>193248256</td>\n",
       "    </tr>\n",
       "    <tr>\n",
       "      <th>171</th>\n",
       "      <td>171</td>\n",
       "      <td>1.750908</td>\n",
       "      <td>1.820259</td>\n",
       "      <td>1.820259</td>\n",
       "      <td>-0.000050</td>\n",
       "      <td>True</td>\n",
       "      <td>96.318253</td>\n",
       "      <td>0.543148</td>\n",
       "      <td>193248256</td>\n",
       "    </tr>\n",
       "  </tbody>\n",
       "</table>\n",
       "<p>172 rows × 9 columns</p>\n",
       "</div>"
      ],
      "text/plain": [
       "     epoch  train_loss  val_loss  best_val_loss  delta_per_best  saved_model  \\\n",
       "0        0    2.260827  2.261052       2.261052        0.000000         True   \n",
       "1        1    2.252369  2.255964       2.255964       -0.002250         True   \n",
       "2        2    2.187448  2.188922       2.188922       -0.029718         True   \n",
       "3        3    2.191793  2.193170       2.188922        0.001941        False   \n",
       "4        4    2.148670  2.148366       2.148366       -0.018528         True   \n",
       "..     ...         ...       ...            ...             ...          ...   \n",
       "167    167    1.752663  1.820638       1.820638       -0.000055         True   \n",
       "168    168    1.752220  1.820540       1.820540       -0.000054         True   \n",
       "169    169    1.751779  1.820444       1.820444       -0.000053         True   \n",
       "170    170    1.751342  1.820351       1.820351       -0.000051         True   \n",
       "171    171    1.750908  1.820259       1.820259       -0.000050         True   \n",
       "\n",
       "     elapsed_time  epoch_time  cuda_mem_alloc  \n",
       "0        0.566810    0.566585       193248256  \n",
       "1        1.126056    0.556727       193248256  \n",
       "2        1.674067    0.545534       193248256  \n",
       "3        2.230885    0.554200       193248256  \n",
       "4        2.784918    0.554008       193248256  \n",
       "..            ...         ...             ...  \n",
       "167     94.136927    0.542006       193248256  \n",
       "168     94.681994    0.542756       193248256  \n",
       "169     95.227094    0.542798       193248256  \n",
       "170     95.772778    0.543374       193248256  \n",
       "171     96.318253    0.543148       193248256  \n",
       "\n",
       "[172 rows x 9 columns]"
      ]
     },
     "execution_count": 23,
     "metadata": {},
     "output_type": "execute_result"
    }
   ],
   "source": [
    "dfp_train_results"
   ]
  },
  {
   "cell_type": "code",
   "execution_count": 24,
   "metadata": {},
   "outputs": [
    {
     "name": "stderr",
     "output_type": "stream",
     "text": [
      "C:\\Users\\Matth/mount_sinai_health_hackathon_ekg_img\\common_code\\plotting.py:188: UserWarning: Matplotlib is currently using module://ipykernel.pylab.backend_inline, which is a non-GUI backend, so cannot show the figure.\n",
      "  _fig.show()\n"
     ]
    },
    {
     "data": {
      "image/png": "[encoded data removed]",
      "text/plain": [
       "<Figure size 432x288 with 1 Axes>"
      ]
     },
     "metadata": {
      "needs_background": "light"
     },
     "output_type": "display_data"
    }
   ],
   "source": [
    "plot_loss_vs_epoch(dfp_train_results, output_path, fname='loss_vs_epoch', tag='', inline=True,\n",
    "                   ann_text_std_add=None,\n",
    "                   y_axis_params={'log': True},\n",
    "                   loss_cols=['train_loss', 'val_loss'],\n",
    "                  )"
   ]
  },
  {
   "cell_type": "markdown",
   "metadata": {},
   "source": [
    "### Load model from disk"
   ]
  },
  {
   "cell_type": "code",
   "execution_count": 25,
   "metadata": {},
   "outputs": [],
   "source": [
    "best_epoch = dfp_train_results.iloc[dfp_train_results['val_loss'].idxmin()]['epoch']\n",
    "load_model(model, device, best_epoch, model_name, models_path)"
   ]
  },
  {
   "cell_type": "markdown",
   "metadata": {},
   "source": [
    "***\n",
    "# TODO"
   ]
  },
  {
   "cell_type": "code",
   "execution_count": 26,
   "metadata": {},
   "outputs": [],
   "source": [
    "def eval_model(model, dl, device):\n",
    "    all_labels = []\n",
    "    all_preds = []\n",
    "    model.eval()\n",
    "    for (inputs, labels) in dl:\n",
    "            inputs = inputs.to(device)\n",
    "            labels = labels.to(device)\n",
    "\n",
    "            outputs = model(inputs)\n",
    "\n",
    "            _, preds = torch.max(outputs, 1)\n",
    "\n",
    "            all_labels.append(labels.cpu().numpy())\n",
    "            all_preds.append(preds.cpu().numpy())\n",
    "\n",
    "    all_labels = np.concatenate(all_labels).ravel()\n",
    "    all_preds = np.concatenate(all_preds).ravel()\n",
    "\n",
    "    return all_labels, all_preds"
   ]
  },
  {
   "cell_type": "code",
   "execution_count": 27,
   "metadata": {},
   "outputs": [],
   "source": [
    "labels, preds = eval_model(model, dl_test, device)"
   ]
  },
  {
   "cell_type": "code",
   "execution_count": 28,
   "metadata": {},
   "outputs": [],
   "source": [
    "# labels"
   ]
  },
  {
   "cell_type": "code",
   "execution_count": 29,
   "metadata": {},
   "outputs": [],
   "source": [
    "# preds"
   ]
  },
  {
   "cell_type": "markdown",
   "metadata": {},
   "source": [
    "### Confusion Matrix"
   ]
  },
  {
   "cell_type": "code",
   "execution_count": 30,
   "metadata": {},
   "outputs": [],
   "source": [
    "conf_matrix = confusion_matrix(labels, preds)"
   ]
  },
  {
   "cell_type": "code",
   "execution_count": 31,
   "metadata": {},
   "outputs": [],
   "source": [
    "# conf_matrix"
   ]
  },
  {
   "cell_type": "code",
   "execution_count": 32,
   "metadata": {},
   "outputs": [],
   "source": [
    "import itertools\n",
    "\n",
    "def plot_confusion_matrix(cm, classes, normalize=False, title=\"CM\"):\n",
    "    if normalize:\n",
    "        cm = cm.astype('float') / cm.sum(axis=1)[:, np.newaxis]\n",
    "\n",
    "    #Plot matrix\n",
    "    plt.imshow(cm, interpolation='nearest', cmap=plt.cm.Blues)\n",
    "    plt.title(title)\n",
    "    plt.colorbar()\n",
    "    tick_marks = np.arange(len(classes))\n",
    "    plt.xticks(tick_marks, classes, rotation=45)\n",
    "    plt.yticks(tick_marks, classes)\n",
    "\n",
    "    #Format number color according to threshold\n",
    "    fmt = '.2f' if normalize else 'd'\n",
    "    thresh = cm.max() / 2.\n",
    "    for i, j in itertools.product(range(cm.shape[0]), range(cm.shape[1])):\n",
    "        plt.text(j, i, format(cm[i, j], fmt),\n",
    "                 horizontalalignment=\"center\",\n",
    "                 color=\"white\" if cm[i, j] > thresh else \"black\")\n",
    "\n",
    "    #Add labels\n",
    "    plt.ylabel('True label')\n",
    "    plt.xlabel('Predicted label')\n",
    "    plt.tight_layout()"
   ]
  },
  {
   "cell_type": "code",
   "execution_count": 33,
   "metadata": {},
   "outputs": [
    {
     "data": {
      "image/png": "[encoded data removed]",
      "text/plain": [
       "<Figure size 432x288 with 2 Axes>"
      ]
     },
     "metadata": {
      "needs_background": "light"
     },
     "output_type": "display_data"
    }
   ],
   "source": [
    "plt.figure()\n",
    "plot_confusion_matrix(conf_matrix, classes=idx_to_class.values(), title='Confusion matrix, without normalization')\n",
    "plt.show()"
   ]
  },
  {
   "cell_type": "markdown",
   "metadata": {},
   "source": [
    "***\n",
    "# Dev"
   ]
  },
  {
   "cell_type": "code",
   "execution_count": null,
   "metadata": {},
   "outputs": [],
   "source": [
    "from common_code import *"
   ]
  },
  {
   "cell_type": "code",
   "execution_count": null,
   "metadata": {},
   "outputs": [],
   "source": [
    "# test_mem()"
   ]
  },
  {
   "cell_type": "code",
   "execution_count": null,
   "metadata": {},
   "outputs": [],
   "source": []
  },
  {
   "cell_type": "code",
   "execution_count": null,
   "metadata": {},
   "outputs": [],
   "source": []
  }
 ],
 "metadata": {
  "kernelspec": {
   "display_name": "Python 3",
   "language": "python",
   "name": "python3"
  },
  "language_info": {
   "codemirror_mode": {
    "name": "ipython",
    "version": 3
   },
   "file_extension": ".py",
   "mimetype": "text/x-python",
   "name": "python",
   "nbconvert_exporter": "python",
   "pygments_lexer": "ipython3",
   "version": "3.7.4"
  }
 },
 "nbformat": 4,
 "nbformat_minor": 4
}
