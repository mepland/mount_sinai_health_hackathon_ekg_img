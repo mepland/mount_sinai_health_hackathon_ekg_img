{
 "cells": [
  {
   "cell_type": "markdown",
   "metadata": {},
   "source": [
    "# Dev Preprocessing"
   ]
  },
  {
   "cell_type": "raw",
   "metadata": {},
   "source": [
    "import sys\n",
    "get_ipython().system('{sys.executable} -m pip install --upgrade pip');\n",
    "get_ipython().system('{sys.executable} -m pip install -r ../requirements.txt');"
   ]
  },
  {
   "cell_type": "markdown",
   "metadata": {},
   "source": [
    "### Load packages"
   ]
  },
  {
   "cell_type": "code",
   "execution_count": null,
   "metadata": {},
   "outputs": [],
   "source": [
    "%load_ext autoreload\n",
    "%autoreload 2\n",
    "\n",
    "########################################################\n",
    "# python\n",
    "import os\n",
    "import pandas as pd\n",
    "import numpy as np\n",
    "from scipy.io import loadmat\n",
    "  \n",
    "########################################################\n",
    "# plotting\n",
    "from plotting_preprocessing import *\n",
    "%matplotlib inline\n",
    "\n",
    "########################################################\n",
    "# set global rnd_seed for reproducibility\n",
    "rnd_seed = 42\n",
    "np.random.seed(rnd_seed)"
   ]
  },
  {
   "cell_type": "markdown",
   "metadata": {},
   "source": [
    "***\n",
    "# Setup Variables and Functions"
   ]
  },
  {
   "cell_type": "code",
   "execution_count": null,
   "metadata": {},
   "outputs": [],
   "source": [
    "# input vars for this sample\n",
    "input_path = '../data/PhysioNetChallenge2020_Training_CPSC/Training_WFDB'\n",
    "\n",
    "sampling_freq = 500 # Hz\n",
    "\n",
    "channel_names = ['I', 'II', 'III', 'aVR', 'aVL', 'aVF', 'V1', 'V2', 'V3', 'V4', 'V5', 'V6']\n",
    "n_channels = len(channel_names)\n",
    "\n",
    "# output vars\n",
    "# im_res=600\n",
    "im_res=800\n",
    "# im_res=224\n",
    "\n",
    "out_path = f'./output_dev/im_res_{im_res}'\n",
    "slice_time_range = 2.5 # seconds\n",
    "n_slices_max = 5 # max number of slice_time_range length slices to take from one original waveform\n",
    "\n",
    "n_samples_per_slice = int(np.ceil(sampling_freq*slice_time_range))\n",
    "\n",
    "Dx_classes = {\n",
    "'Normal': 'Normal sinus rhythm',\n",
    "'AF': 'Atrial fibrillation',\n",
    "'I-AVB': 'Airst-degree atrioventricular block',\n",
    "'LBBB': 'Left bundle branch block',\n",
    "'PAC': 'Premature atrial complex',\n",
    "'PVC': 'Premature ventricular complex',\n",
    "'RBBB': 'Right bundle branch block',\n",
    "'STD': 'ST-segment depression',\n",
    "'STE': 'ST-segment elevation',\n",
    "}"
   ]
  },
  {
   "cell_type": "code",
   "execution_count": null,
   "metadata": {},
   "outputs": [],
   "source": [
    "def load_data(in_path, fname, channel_names):\n",
    "\t# channels = len(channel_names)\n",
    "\n",
    "    path_fname = f'{in_path}/{fname}'\n",
    "\n",
    "    x = loadmat(f'{path_fname}.mat')['val']\n",
    "\n",
    "    with open(f'{path_fname}.hea', 'r') as f:\n",
    "        header_data_raw = f.readlines()\n",
    "\n",
    "    # clean any whitespace to single spaces\n",
    "    header_data = [' '.join(l.split()) for l in header_data_raw]\n",
    "\n",
    "    # get gain and offset per channel\n",
    "    gain_channel = np.zeros(n_channels)\n",
    "    offset_channel = np.zeros(n_channels)\n",
    "    for i in range(n_channels):\n",
    "        h_line_tmp = header_data[i+1].split(' ')\n",
    "        gain_channel[i] = float(h_line_tmp[2].split('/')[0]) # really an int, but cast to float for safer division later\n",
    "        offset_channel[i] = int(h_line_tmp[4])\n",
    "\n",
    "    # get Dx\n",
    "    Dx = header_data[15].replace('#Dx: ', '')\n",
    "\n",
    "    # get channel y values\n",
    "    ch_values = {}\n",
    "    for ich,ch in enumerate(channel_names):\n",
    "        ch_values[ch] = (x[ich]-offset_channel[ich])/gain_channel[ich]\n",
    "\n",
    "    dfp_channels = pd.DataFrame(ch_values)\n",
    "\n",
    "    return dfp_channels, Dx"
   ]
  },
  {
   "cell_type": "markdown",
   "metadata": {},
   "source": [
    "***\n",
    "# Load the data"
   ]
  },
  {
   "cell_type": "code",
   "execution_count": null,
   "metadata": {},
   "outputs": [],
   "source": [
    "fnames = [f.replace('.mat', '') for f in os.listdir(input_path) if os.path.isfile(os.path.join(input_path, f)) and not f.startswith('.') and f.endswith('mat')]"
   ]
  },
  {
   "cell_type": "code",
   "execution_count": null,
   "metadata": {},
   "outputs": [],
   "source": [
    "fname = fnames[0]\n",
    "# fname = 'A0011'\n",
    "\n",
    "print(fname)"
   ]
  },
  {
   "cell_type": "code",
   "execution_count": null,
   "metadata": {},
   "outputs": [],
   "source": [
    "dfp_channels, Dx = load_data(input_path, fname, channel_names)"
   ]
  },
  {
   "cell_type": "code",
   "execution_count": null,
   "metadata": {},
   "outputs": [],
   "source": [
    "Dx"
   ]
  },
  {
   "cell_type": "code",
   "execution_count": null,
   "metadata": {},
   "outputs": [],
   "source": [
    "dfp_channels"
   ]
  },
  {
   "cell_type": "markdown",
   "metadata": {},
   "source": [
    "***\n",
    "# Plotting"
   ]
  },
  {
   "cell_type": "code",
   "execution_count": null,
   "metadata": {},
   "outputs": [],
   "source": [
    "# from plotting_preprocessing import *\n",
    "\n",
    "# im_res=800\n",
    "# im_res=600\n",
    "# im_res=224\n",
    "\n",
    "i_slice_start = 0\n",
    "i_slice_stop = i_slice_start+n_samples_per_slice\n",
    "\n",
    "plot_waveform(dfp_channels.iloc[i_slice_start:i_slice_stop],\n",
    "    channel_names, sampling_freq,\n",
    "    m_path=out_path, fname='test_ekg', tag='', inline=False,\n",
    "    target_time_range=slice_time_range, target_im_res=im_res,\n",
    "    run_parallel=False, # Turn off some error checking to speed things up\n",
    "    fixed_yaxis_range=True, # Use fixed y-axes range\n",
    "    show_y_minor_grid=True, # show y minor grid, turn off when running for low resolutions as it doesn't show up anyway\n",
    "    show_axes_labels=True, show_tick_labels=False, # turn off axes and tick labels\n",
    ")"
   ]
  },
  {
   "cell_type": "markdown",
   "metadata": {},
   "source": [
    "***\n",
    "# Slicing"
   ]
  },
  {
   "cell_type": "code",
   "execution_count": null,
   "metadata": {},
   "outputs": [],
   "source": [
    "n_samples = len(dfp_channels.index)\n",
    "# decide n_slices to take, and where to start them\n",
    "n_slices = min(int(n_samples / n_samples_per_slice), n_slices_max)\n",
    "starts = (1. - (1. / float(n_slices)) )*np.random.random(n_slices)"
   ]
  },
  {
   "cell_type": "code",
   "execution_count": null,
   "metadata": {},
   "outputs": [],
   "source": [
    "m_path = f'{out_path}/{Dx}'\n",
    "os.makedirs(m_path, exist_ok=True)\n",
    "\n",
    "# print each slice\n",
    "for islice in range(n_slices):\n",
    "    i_slice_start = int(np.ceil(starts[islice]*n_samples))\n",
    "    i_slice_stop = i_slice_start+n_samples_per_slice\n",
    "\n",
    "    plot_waveform(dfp_channels.iloc[i_slice_start:i_slice_stop],\n",
    "        channel_names, sampling_freq,\n",
    "        m_path=m_path,\n",
    "        fname=f'{fname}-s{islice:02d}',\n",
    "        tag='', inline=False,\n",
    "        target_time_range=slice_time_range, target_im_res=im_res,\n",
    "        run_parallel=True, # Turn off some error checking to speed things up\n",
    "        fixed_yaxis_range=True, # Use fixed y-axes range\n",
    "        show_y_minor_grid=True, # show y minor grid, turn off when running for low resolutions as it doesn't show up anyway\n",
    "        show_axes_labels=False, show_tick_labels=False, # turn off axes and tick labels\n",
    "    )"
   ]
  },
  {
   "cell_type": "code",
   "execution_count": null,
   "metadata": {},
   "outputs": [],
   "source": []
  }
 ],
 "metadata": {
  "kernelspec": {
   "display_name": "Python 3",
   "language": "python",
   "name": "python3"
  },
  "language_info": {
   "codemirror_mode": {
    "name": "ipython",
    "version": 3
   },
   "file_extension": ".py",
   "mimetype": "text/x-python",
   "name": "python",
   "nbconvert_exporter": "python",
   "pygments_lexer": "ipython3",
   "version": "3.7.7"
  }
 },
 "nbformat": 4,
 "nbformat_minor": 4
}
