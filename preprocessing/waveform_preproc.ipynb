{
 "cells": [
  {
   "cell_type": "markdown",
   "metadata": {},
   "source": [
    "# Waveform Preprocessing"
   ]
  },
  {
   "cell_type": "raw",
   "metadata": {},
   "source": [
    "import sys\n",
    "get_ipython().system('{sys.executable} -m pip install --upgrade pip');\n",
    "get_ipython().system('{sys.executable} -m pip install -r ../requirements.txt');"
   ]
  },
  {
   "cell_type": "markdown",
   "metadata": {},
   "source": [
    "### Load packages!"
   ]
  },
  {
   "cell_type": "code",
   "execution_count": null,
   "metadata": {},
   "outputs": [],
   "source": [
    "%load_ext autoreload\n",
    "%autoreload 2\n",
    "\n",
    "########################################################\n",
    "# python\n",
    "import pandas as pd\n",
    "import numpy as np\n",
    "from tqdm import tqdm\n",
    "from collections import defaultdict\n",
    "from scipy.io import loadmat\n",
    "  \n",
    "########################################################\n",
    "# plotting\n",
    "from plotting import * # load plotting code\n",
    "%matplotlib inline\n",
    "\n",
    "########################################################\n",
    "# set global rnd_seed for reproducibility\n",
    "rnd_seed = 42\n",
    "np.random.seed(rnd_seed)\n",
    "\n",
    "pd.set_option('display.max_rows', 100)\n",
    "pd.set_option('display.max_columns', 100)\n",
    "pd.set_option('display.width', 1000)"
   ]
  },
  {
   "cell_type": "markdown",
   "metadata": {},
   "source": [
    "***\n",
    "# Setup Variables and Functions"
   ]
  },
  {
   "cell_type": "code",
   "execution_count": null,
   "metadata": {},
   "outputs": [],
   "source": [
    "# input vars for this sample\n",
    "data_path = '../data/PhysioNetChallenge2020_Training_CPSC/Training_WFDB'\n",
    "\n",
    "n_ekgs_total = 6877\n",
    "sampling_freq = 500 # Hz\n",
    "\n",
    "channel_names = ['I', 'II', 'III', 'aVR', 'aVL', 'aVF', 'V1', 'V2', 'V3', 'V4', 'V5', 'V6']\n",
    "n_channels = len(channel_names)\n",
    "\n",
    "Dx_classes = {\n",
    "'Normal': 'Normal sinus rhythm',\n",
    "'AF': 'Atrial fibrillation',\n",
    "'I-AVB': 'Airst-degree atrioventricular block',\n",
    "'LBBB': 'Left bundle branch block',\n",
    "'PAC': 'Premature atrial complex',\n",
    "'PVC': 'Premature ventricular complex',\n",
    "'RBBB': 'Right bundle branch block',\n",
    "'STD': 'ST-segment depression',\n",
    "'STE': 'ST-segment elevation',\n",
    "}\n",
    "\n",
    "# output vars\n",
    "im_res=800\n",
    "output_path = f'./output/im_res_{im_res}'\n",
    "slice_time_range = 5 # seconds\n",
    "n_slices_max = 5 # max number of slice_time_range length slices to take from one original waveform"
   ]
  },
  {
   "cell_type": "code",
   "execution_count": null,
   "metadata": {},
   "outputs": [],
   "source": [
    "def load_challenge_data(m_path, fname):\n",
    "    if '.mat' in fname or '.hea' in fname:\n",
    "        raise ValueError(f'Expected fname = {fname} to NOT have any extensions .mat or .hea')\n",
    "\n",
    "    mat_fname =  f'{m_path}/{fname}.mat'\n",
    "    try:\n",
    "        x = loadmat(mat_fname)['val']\n",
    "    except EnvironmentError:\n",
    "        raise EnvironmentError(f'Could not load mat file {mat_fname}')\n",
    "\n",
    "    header_fname =  f'{m_path}/{fname}.hea'\n",
    "    try:\n",
    "        with open(header_fname, 'r') as f:\n",
    "            header_data_raw = f.readlines()\n",
    "\n",
    "            # clean any whitespace to single spaces\n",
    "            header_data = [' '.join(l.split()) for l in header_data_raw]\n",
    "\n",
    "            # pull metadata from first line\n",
    "            h_line = header_data[0].split(' ')\n",
    "\n",
    "            _n_leads = int(h_line[1])\n",
    "            if _n_leads != n_channels:\n",
    "                raise ValueError(f'Expected {n_channels} but found {_n_leads}!')\n",
    "\n",
    "            _sampling_freq = int(h_line[2])\n",
    "            if _sampling_freq != sampling_freq:\n",
    "                raise ValueError(f'Header reports a {_sampling_freq} Hz sampling rate, but expected {sampling_freq}!')\n",
    "\n",
    "            _n_samples = int(h_line[3])\n",
    "            if _n_samples != x.shape[1]:\n",
    "                raise ValueError(f'Header reports {_n_samples} samples, but .mat only has {x.shape[1]}!')\n",
    "\n",
    "            # get gain per lead\n",
    "            gain_lead = np.zeros(n_channels)\n",
    "            offset_lead = np.zeros(n_channels)\n",
    "            for i in range(n_channels):\n",
    "                h_line_tmp = header_data[i+1].split(' ')\n",
    "                gain_split = h_line_tmp[2].split('/')\n",
    "                if gain_split[1] != 'mV':\n",
    "                    raise ValueError(f'Expected mV units, but found {gain_split[1]}!')\n",
    "                gain_lead[i] = int(gain_split[0])\n",
    "                offset_lead[i] = int(h_line_tmp[4])\n",
    "\n",
    "            # get Dx\n",
    "            Dx_line = header_data[15]\n",
    "            if 'Dx' not in Dx_line:\n",
    "                raise ValueError('Did not find Dx information on line 16!')\n",
    "            Dx = Dx_line.replace('#Dx: ', '')\n",
    "\n",
    "    except EnvironmentError:\n",
    "        raise EnvironmentError(f'Could not load header file {header_fname}')\n",
    "\n",
    "    results = {}\n",
    "    for ich,ch in enumerate(channel_names):\n",
    "        results[ch] = (x[i]-offset_lead[i])/gain_lead[i]\n",
    "    dfp = pd.DataFrame(results)\n",
    "\n",
    "    return dfp, Dx"
   ]
  },
  {
   "cell_type": "markdown",
   "metadata": {},
   "source": [
    "***\n",
    "# Load the data and plot waveforms"
   ]
  },
  {
   "cell_type": "code",
   "execution_count": null,
   "metadata": {},
   "outputs": [],
   "source": [
    "input_files = []\n",
    "for f in os.listdir(data_path):\n",
    "    if os.path.isfile(os.path.join(data_path, f)) and not f.lower().startswith('.') and f.lower().endswith('mat'):\n",
    "        input_files.append(f.replace('.mat', ''))\n",
    "\n",
    "_n_ekgs = len(input_files)\n",
    "if _n_ekgs != n_ekgs_total:\n",
    "    raise ValueError(f'Only found {_n_ekgs} != expected {n_ekgs_total}!')"
   ]
  },
  {
   "cell_type": "code",
   "execution_count": null,
   "metadata": {},
   "outputs": [],
   "source": [
    "# allowed_Dx_classes = [] # TODo"
   ]
  },
  {
   "cell_type": "code",
   "execution_count": null,
   "metadata": {},
   "outputs": [],
   "source": [
    "n_wf_counter_dict = defaultdict(int)\n",
    "n_rows_per_slice = sampling_freq*slice_time_range\n",
    "for input_file in tqdm(input_files):\n",
    "\n",
    "    dfp_channels, Dx = load_challenge_data(data_path, input_file)\n",
    "\n",
    "    record_type = Dx\n",
    "#    if Dx in allowed_Dx_classes:\n",
    "#        record_type = Dx\n",
    "#    elif Dx in ['TODo', 'TODo']:\n",
    "#        record_type = 'TODo'\n",
    "#    else:\n",
    "#        record_type = 'Other'\n",
    "    record_type = record_type.replace(' ', '_')\n",
    "\n",
    "    n_rows = len(dfp_channels.index)\n",
    "    if n_rows < n_rows_per_slice:\n",
    "        raise ValueError(f'Only has {n_rows} < n_rows_per_slice = {n_rows_per_slice}!')\n",
    "\n",
    "    n_slices = min(int(n_rows / n_rows_per_slice), n_slices_max)\n",
    "    slice_prop = 1. / float(n_slices)\n",
    "\n",
    "    starts = np.random.random(n_slices)\n",
    "    starts = (1 - slice_prop)*starts\n",
    "\n",
    "    for islice in range(n_slices):\n",
    "        i_slice_start = int(starts[islice]*n_rows)\n",
    "\n",
    "        plot_waveform(dfp_channels.iloc[i_slice_start:i_slice_start+n_rows_per_slice],\n",
    "                      channel_names, sampling_freq,\n",
    "                      m_path=f'{output_path}/{record_type}',\n",
    "                      fname=f'wf_{n_wf_counter_dict[record_type]}-{islice}',\n",
    "                      tag='', inline=False,\n",
    "                      target_time_range=slice_time_range, target_im_res=im_res,\n",
    "                      )\n",
    "\n",
    "    n_wf_counter_dict[record_type] += 1"
   ]
  },
  {
   "cell_type": "markdown",
   "metadata": {},
   "source": [
    "***\n",
    "# Dev"
   ]
  },
  {
   "cell_type": "code",
   "execution_count": null,
   "metadata": {},
   "outputs": [],
   "source": [
    "raise ValueError('Stop Here, in Dev!')"
   ]
  },
  {
   "cell_type": "code",
   "execution_count": null,
   "metadata": {},
   "outputs": [],
   "source": [
    "from plotting import *"
   ]
  },
  {
   "cell_type": "code",
   "execution_count": null,
   "metadata": {},
   "outputs": [],
   "source": [
    "dfp_channels, Dx = load_challenge_data(data_path, fname='A0001', target_time_range=slice_time_range, target_im_res=im_res)"
   ]
  },
  {
   "cell_type": "code",
   "execution_count": null,
   "metadata": {},
   "outputs": [],
   "source": [
    "Dx"
   ]
  },
  {
   "cell_type": "code",
   "execution_count": null,
   "metadata": {},
   "outputs": [],
   "source": [
    "dfp_channels"
   ]
  },
  {
   "cell_type": "code",
   "execution_count": null,
   "metadata": {},
   "outputs": [],
   "source": [
    "plot_waveform(dfp_channels, channel_names, sampling_freq, output_path, inline=False)"
   ]
  },
  {
   "cell_type": "code",
   "execution_count": null,
   "metadata": {},
   "outputs": [],
   "source": []
  }
 ],
 "metadata": {
  "kernelspec": {
   "display_name": "Python 3",
   "language": "python",
   "name": "python3"
  },
  "language_info": {
   "codemirror_mode": {
    "name": "ipython",
    "version": 3
   },
   "file_extension": ".py",
   "mimetype": "text/x-python",
   "name": "python",
   "nbconvert_exporter": "python",
   "pygments_lexer": "ipython3",
   "version": "3.7.4"
  }
 },
 "nbformat": 4,
 "nbformat_minor": 4
}
