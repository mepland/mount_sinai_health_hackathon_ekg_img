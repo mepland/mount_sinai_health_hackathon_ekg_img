{
 "cells": [
  {
   "cell_type": "markdown",
   "metadata": {},
   "source": [
    "# Waveform Preprocessing"
   ]
  },
  {
   "cell_type": "code",
   "execution_count": null,
   "metadata": {},
   "outputs": [],
   "source": [
    "# install requirements\n",
    "import sys\n",
    "!{sys.executable} -m pip install --upgrade pip\n",
    "!{sys.executable} -m pip install -r ../requirements.txt"
   ]
  },
  {
   "cell_type": "markdown",
   "metadata": {},
   "source": [
    "### Load packages!"
   ]
  },
  {
   "cell_type": "code",
   "execution_count": 1,
   "metadata": {},
   "outputs": [],
   "source": [
    "%load_ext autoreload\n",
    "%autoreload 2\n",
    "\n",
    "########################################################\n",
    "# python\n",
    "import pandas as pd\n",
    "import numpy as np\n",
    "from tqdm import tqdm\n",
    "from collections import defaultdict\n",
    "\n",
    "# import warnings\n",
    "# from time import time\n",
    "# from copy import copy\n",
    "# from collections import OrderedDict\n",
    "# from natsort import natsorted\n",
    "# import json\n",
    "# import pickle\n",
    "\n",
    "########################################################\n",
    "# sklearn\n",
    "# warnings.filterwarnings('ignore', message='sklearn.externals.joblib is deprecated in 0.21 and will be removed in 0.23')\n",
    "# from sklearn.model_selection import train_test_split\n",
    "# from sklearn.metrics import roc_curve, auc, roc_auc_score\n",
    "\n",
    "########################################################\n",
    "# plotting\n",
    "import matplotlib as mpl\n",
    "import matplotlib.pyplot as plt\n",
    "%matplotlib inline\n",
    "\n",
    "########################################################\n",
    "# waveform package\n",
    "# https://github.com/-LCP/wfdb-python\n",
    "import wfdb\n",
    "\n",
    "########################################################\n",
    "# set global rnd_seed for reproducibility\n",
    "rnd_seed = 42\n",
    "np.random.seed(rnd_seed)\n",
    "\n",
    "output = './output'\n",
    "\n",
    "pd.set_option('display.max_rows', 100)\n",
    "pd.set_option('display.max_columns', 100)\n",
    "pd.set_option('display.width', 1000)"
   ]
  },
  {
   "cell_type": "code",
   "execution_count": 2,
   "metadata": {},
   "outputs": [],
   "source": [
    "from plotting import * # load plotting code"
   ]
  },
  {
   "cell_type": "markdown",
   "metadata": {},
   "source": [
    "# Load the data"
   ]
  },
  {
   "cell_type": "code",
   "execution_count": 3,
   "metadata": {},
   "outputs": [],
   "source": [
    "data_path = '../data/ptb-diagnostic-ecg-database-1.0.0'\n",
    "\n",
    "target_channel_names = ['i', 'ii', 'iii', 'avr', 'avl', 'avf', 'v1', 'v2', 'v3', 'v4', 'v5', 'v6']\n",
    "n_channels = len(target_channel_names)\n",
    "\n",
    "time_period = 5 # seconds\n",
    "sampling_rate = 1000\n",
    "\n",
    "n_slices_max = 5\n",
    "\n",
    "# n_rows_list = []\n",
    "n_rows_slice = sampling_rate*time_period\n",
    "\n",
    "# possible_Dx = set()"
   ]
  },
  {
   "cell_type": "code",
   "execution_count": 4,
   "metadata": {},
   "outputs": [],
   "source": [
    "Dx_classes = [\n",
    "'BUNDLE BRANCH BLOCK',\n",
    "'DYSRHYTHMIA',\n",
    "'MYOCARDIAL INFARCTION',\n",
    "# 'HEART FAILURE', = # 'CARDIOMYOPATHY', 'HEART FAILURE (NYHA 2)', 'HEART FAILURE (NYHA 3)', 'HEART FAILURE (NYHA 4)',\n",
    "]"
   ]
  },
  {
   "cell_type": "code",
   "execution_count": 5,
   "metadata": {},
   "outputs": [],
   "source": [
    "with open(f'{data_path}/RECORDS', 'r') as f_records:\n",
    "    records = [x.replace('\\n', '') for x in f_records.readlines()]"
   ]
  },
  {
   "cell_type": "code",
   "execution_count": 6,
   "metadata": {},
   "outputs": [],
   "source": [
    "with open(f'{data_path}/CONTROLS', 'r') as f_controls:\n",
    "    controls = [x.replace('\\n', '') for x in f_controls.readlines()]"
   ]
  },
  {
   "cell_type": "code",
   "execution_count": 7,
   "metadata": {},
   "outputs": [
    {
     "name": "stderr",
     "output_type": "stream",
     "text": [
      "100%|██████████| 549/549 [2:28:04<00:00, 16.18s/it]   \n"
     ]
    }
   ],
   "source": [
    "n_wf_counter_dict = defaultdict(int)\n",
    "for record in tqdm(records):\n",
    "\n",
    "    channels, fields = wfdb.rdsamp(f'{data_path}/{record}', channels=list(range(n_channels)))\n",
    "\n",
    "    record_type = None\n",
    "    if record in controls:\n",
    "        record_type = 'CONTROL'\n",
    "    else:\n",
    "        Dx_field = 'Reason for admission'\n",
    "        Dx = [x for x in fields['comments'] if Dx_field in x]\n",
    "        Dx = Dx[0].replace(f'{Dx_field}: ', '').upper()\n",
    "        # possible_Dx.add(Dx)\n",
    "\n",
    "        if Dx in Dx_classes:\n",
    "            record_type = Dx\n",
    "        elif Dx == 'CARDIOMYOPATHY' or 'HEART FAILURE' in Dx:\n",
    "            record_type = 'HEART FAILURE'\n",
    "        else:\n",
    "            record_type = 'OTHER'\n",
    "\n",
    "    channel_names = fields['sig_name']\n",
    "    if len(set(set(target_channel_names) - set(channel_names))) > 0:\n",
    "        raise ValueError('Missing some target channels!')\n",
    "\n",
    "    df_channels = pd.DataFrame(channels, columns=channel_names)\n",
    "    df_channels = df_channels[target_channel_names]\n",
    "    n_rows = len(df_channels.index)\n",
    "\n",
    "    if n_rows < n_rows_slice:\n",
    "        raise ValueError(f'Only has {n_rows} < n_rows_slice = {n_rows_slice}!')\n",
    "\n",
    "    n_slices = int(n_rows / n_rows_slice)\n",
    "    n_slices = min(n_slices, n_slices_max)\n",
    "    starts = np.random.random(n_slices)\n",
    "\n",
    "    slice_prop = 1. / float(n_slices)\n",
    "    starts = (1 - slice_prop)*starts\n",
    "\n",
    "    for islice in range(n_slices):\n",
    "        i_slice_start = int(starts[islice]*n_rows)\n",
    "\n",
    "        i_start = i_slice_start\n",
    "        i_stop = i_slice_start + n_rows_slice\n",
    "\n",
    "        plot_waveform(df_channels.iloc[i_start:i_stop], target_channel_names,\n",
    "                      m_path=f\"{output}/{record_type.replace(' ', '_')}\", target_period=time_period,\n",
    "                      fname=f'wf_{n_wf_counter_dict[record_type]}-{islice}', tag='',\n",
    "                      inline=False)\n",
    "\n",
    "    n_wf_counter_dict[record_type] += 1"
   ]
  },
  {
   "cell_type": "code",
   "execution_count": null,
   "metadata": {},
   "outputs": [],
   "source": [
    "# min(n_rows_list)"
   ]
  },
  {
   "cell_type": "code",
   "execution_count": null,
   "metadata": {},
   "outputs": [],
   "source": [
    "# print(sorted(list(possible_Dx)))"
   ]
  },
  {
   "cell_type": "markdown",
   "metadata": {},
   "source": [
    "# Dev"
   ]
  },
  {
   "cell_type": "code",
   "execution_count": null,
   "metadata": {},
   "outputs": [],
   "source": [
    "# raise ValueError('Stop Here, in Dev!')"
   ]
  },
  {
   "cell_type": "code",
   "execution_count": null,
   "metadata": {},
   "outputs": [],
   "source": [
    "from plotting import *"
   ]
  },
  {
   "cell_type": "code",
   "execution_count": null,
   "metadata": {},
   "outputs": [],
   "source": [
    "fields['comments']"
   ]
  },
  {
   "cell_type": "code",
   "execution_count": null,
   "metadata": {},
   "outputs": [],
   "source": []
  }
 ],
 "metadata": {
  "kernelspec": {
   "display_name": "Python 3",
   "language": "python",
   "name": "python3"
  },
  "language_info": {
   "codemirror_mode": {
    "name": "ipython",
    "version": 3
   },
   "file_extension": ".py",
   "mimetype": "text/x-python",
   "name": "python",
   "nbconvert_exporter": "python",
   "pygments_lexer": "ipython3",
   "version": "3.7.4"
  }
 },
 "nbformat": 4,
 "nbformat_minor": 4
}
